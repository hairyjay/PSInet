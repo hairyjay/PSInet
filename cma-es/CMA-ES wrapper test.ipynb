{
 "cells": [
  {
   "cell_type": "markdown",
   "metadata": {},
   "source": [
    "# PART 0: INSTALL (for Colab and New Devices)"
   ]
  },
  {
   "cell_type": "code",
   "execution_count": 2,
   "metadata": {},
   "outputs": [
    {
     "name": "stdout",
     "output_type": "stream",
     "text": [
      "Collecting cma\n",
      "  Downloading cma-3.0.3-py2.py3-none-any.whl (230 kB)\n",
      "\u001b[K     |████████████████████████████████| 230 kB 1.4 MB/s eta 0:00:01\n",
      "\u001b[?25hRequirement already satisfied: numpy in /Users/harry/opt/anaconda3/lib/python3.8/site-packages (from cma) (1.18.5)\n",
      "Installing collected packages: cma\n",
      "Successfully installed cma-3.0.3\n"
     ]
    }
   ],
   "source": [
    "!pip install cma"
   ]
  },
  {
   "cell_type": "markdown",
   "metadata": {},
   "source": [
    "# PART 1: EVALUATION"
   ]
  },
  {
   "cell_type": "code",
   "execution_count": 4,
   "metadata": {},
   "outputs": [],
   "source": [
    "import cma\n",
    "from cma.fitness_transformations import EvalParallel2"
   ]
  },
  {
   "cell_type": "markdown",
   "metadata": {},
   "source": [
    "## TOY EXAMPLE: ROSENBROCK FUNCTION"
   ]
  },
  {
   "cell_type": "code",
   "execution_count": 5,
   "metadata": {},
   "outputs": [
    {
     "name": "stdout",
     "output_type": "stream",
     "text": [
      "(5_w,10)-aCMA-ES (mu_w=3.2,w_1=45%) in dimension 8 (seed=130092, Tue Nov 10 20:57:39 2020)\n"
     ]
    }
   ],
   "source": [
    "es = cma.CMAEvolutionStrategy(8 * [0], 0.5)\n",
    "\n",
    "f = cma.ff.rosen\n",
    "#es.optimize(f)"
   ]
  },
  {
   "cell_type": "code",
   "execution_count": 10,
   "metadata": {},
   "outputs": [
    {
     "name": "stdout",
     "output_type": "stream",
     "text": [
      "5.488439864559804e-15 4000\n"
     ]
    }
   ],
   "source": [
    "with EvalParallel2(f, number_of_processes=12) as eval:\n",
    "    while not es.stop():\n",
    "        X = es.ask()\n",
    "        es.tell(X, eval(X))\n",
    "print(es.result[1], es.result[2])"
   ]
  },
  {
   "cell_type": "markdown",
   "metadata": {},
   "source": [
    "## SLIGHTLY BIGGER TOY EXAMPLE: MNIST\n",
    "Builds an 1-layer neural network of "
   ]
  },
  {
   "cell_type": "code",
   "execution_count": null,
   "metadata": {},
   "outputs": [],
   "source": [
    "import torch\n",
    "import torchvision\n",
    "import torch.nn as nn\n",
    "import torch.nn.functional as F\n",
    "import torch.optim as optim"
   ]
  },
  {
   "cell_type": "code",
   "execution_count": null,
   "metadata": {},
   "outputs": [],
   "source": [
    "# \"GLOBALS\"\n",
    "\n",
    "DEVICE = torch.device('cuda' if torch.cuda.is_available() else 'cpu')\n",
    "\n",
    "TRAIN_LOADER = torch.utils.data.DataLoader(\n",
    "  torchvision.datasets.MNIST('/files/', train=True, download=True,\n",
    "                             transform=torchvision.transforms.Compose([\n",
    "                               torchvision.transforms.ToTensor(),\n",
    "                               torchvision.transforms.Normalize(\n",
    "                                 (0.1307,), (0.3081,))\n",
    "                             ])),\n",
    "  batch_size=batch_size_train, shuffle=True)\n",
    "\n",
    "TEST_LOADER = torch.utils.data.DataLoader(\n",
    "  torchvision.datasets.MNIST('/files/', train=False, download=True,\n",
    "                             transform=torchvision.transforms.Compose([\n",
    "                               torchvision.transforms.ToTensor(),\n",
    "                               torchvision.transforms.Normalize(\n",
    "                                 (0.1307,), (0.3081,))\n",
    "                             ])),\n",
    "  batch_size=batch_size_test, shuffle=True)"
   ]
  },
  {
   "cell_type": "code",
   "execution_count": null,
   "metadata": {},
   "outputs": [],
   "source": [
    "BOUNDS = np.array([[-6, 2,  2,  2,  2,  2,  16],\n",
    "                   [0,  10, 20, 20, 10, 10, 512]])\n",
    "\n",
    "def mnist_run(hyperparameters):\n",
    "    \"\"\"\n",
    "        Generate a training run for an MNIST classifier with given hyperperameter values\n",
    "        :param hyperparameters (3, int): 1D array of hyperparameter values\n",
    "        :return: evaluation metric\n",
    "    \"\"\"\n",
    "    LR = hyperparameters[0] #LEARNING RATE (EXPONENT)\n",
    "    EP = hyperparameters[1] #EPOCHS\n",
    "    C1 = hyperparameters[2] #CHANNEL SIZE 1\n",
    "    C2 = hyperparameters[3] #CHANNEL SIZE 2\n",
    "    K1 = hyperparameters[4] #KERNEL SIZE 1\n",
    "    K2 = hyperparameters[5] #KERNEL SIZE 2\n",
    "    LW = hyperparameters[6] #LINEAR LAYER WIDTH\n",
    "    \n",
    "    class MNIST_Net(nn.Module):\n",
    "        def __init__(self, C1, K1, C2, K2, LW):\n",
    "            super(Net, self).__init__()\n",
    "            self.conv1 = nn.Conv2d(1, C1, kernel_size=K1)\n",
    "            w1 = (28-K1)+1\n",
    "            self.conv2 = nn.Conv2d(C1, C2, kernel_size=K2)\n",
    "            w2 = (w1-K2)+1\n",
    "            \n",
    "            self.width2 = w2*w2*C2\n",
    "            self.fc1 = nn.Linear(self.width2, LW)\n",
    "            self.fc2 = nn.Linear(LW, 10)\n",
    "\n",
    "        def forward(self, x):\n",
    "            x = F.relu(self.conv1(x))\n",
    "            x = F.relu(self.conv2(x))\n",
    "            x = x.view(-1, self.width2)\n",
    "            x = F.relu(self.fc1(x))\n",
    "            x = self.fc2(x)\n",
    "            return F.log_softmax(x)\n",
    "    \n",
    "    def train(EP):\n",
    "        network.train()\n",
    "        for i in range(EP):\n",
    "            for batch_idx, (data, target) in enumerate(train_loader):\n",
    "                optimizer.zero_grad()\n",
    "                output = network(data)\n",
    "                loss = F.nll_loss(output, target)\n",
    "                loss.backward()\n",
    "                optimizer.step()\n",
    "            \n",
    "    def test():\n",
    "        network.eval()\n",
    "        correct = 0\n",
    "        with torch.no_grad():\n",
    "            for data, target in test_loader:\n",
    "                output = network(data)\n",
    "                test_loss += F.nll_loss(output, target, size_average=False).item()\n",
    "                pred = output.data.max(1, keepdim=True)[1]\n",
    "                correct += pred.eq(target.data.view_as(pred)).sum()\n",
    "        return correct\n",
    "    \n",
    "    network = MNIST_Net()\n",
    "    network.to(DEVICE)\n",
    "    optimizer = optim.SGD(network.parameters(), lr=1**LR, momentum=0.9)"
   ]
  },
  {
   "cell_type": "code",
   "execution_count": null,
   "metadata": {},
   "outputs": [],
   "source": [
    "options = cma.CMAOptions()\n",
    "options.set('integer_variables', [0, 1, 2, 3, 4, 5, 6])\n",
    "\n",
    "f = cma.BoundPenalty(mnist_run, bounds=BOUNDS)\n",
    "\n",
    "es = cma.CMAEvolutionStrategy([-3, 5, 10, 10, 5, 5, 50], [1, 1, 2, 2, 1, 1, 32])\n",
    "\n",
    "with EvalParallel2(f, number_of_processes=1) as eval:\n",
    "    while not es.stop():\n",
    "        X = es.ask()\n",
    "        es.tell(X, eval(X))\n",
    "print(es.result[1], es.result[2])"
   ]
  },
  {
   "cell_type": "markdown",
   "metadata": {},
   "source": [
    "# PART 2: EVAL FUNCTION WRAPPER"
   ]
  },
  {
   "cell_type": "code",
   "execution_count": null,
   "metadata": {},
   "outputs": [],
   "source": [
    "def launch_run(hyperparameters):\n",
    "    \"\"\"\n",
    "        TODO: write training run code for ASR\n",
    "        TODO: integrate with ESPnet and feature extraction model training procedures\n",
    "\n",
    "        Generate a training run of ASR system with selected hyperparameters\n",
    "        :param hyperparameters: 1D array of hyperparameter values\n",
    "        :return: evaluation metric\n",
    "    \"\"\"  \n",
    "    raise NotImplementedError"
   ]
  }
 ],
 "metadata": {
  "kernelspec": {
   "display_name": "Python 3",
   "language": "python",
   "name": "python3"
  },
  "language_info": {
   "codemirror_mode": {
    "name": "ipython",
    "version": 3
   },
   "file_extension": ".py",
   "mimetype": "text/x-python",
   "name": "python",
   "nbconvert_exporter": "python",
   "pygments_lexer": "ipython3",
   "version": "3.8.3"
  }
 },
 "nbformat": 4,
 "nbformat_minor": 4
}
