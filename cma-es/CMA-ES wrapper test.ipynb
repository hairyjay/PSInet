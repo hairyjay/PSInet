{
 "cells": [
  {
   "cell_type": "markdown",
   "metadata": {},
   "source": [
    "# PART 0: INSTALL (for Colab and New Devices)"
   ]
  },
  {
   "cell_type": "code",
   "execution_count": 2,
   "metadata": {},
   "outputs": [
    {
     "name": "stdout",
     "output_type": "stream",
     "text": [
      "Collecting cma\n",
      "  Downloading cma-3.0.3-py2.py3-none-any.whl (230 kB)\n",
      "\u001b[K     |████████████████████████████████| 230 kB 1.4 MB/s eta 0:00:01\n",
      "\u001b[?25hRequirement already satisfied: numpy in /Users/harry/opt/anaconda3/lib/python3.8/site-packages (from cma) (1.18.5)\n",
      "Installing collected packages: cma\n",
      "Successfully installed cma-3.0.3\n"
     ]
    }
   ],
   "source": [
    "!pip install cma"
   ]
  },
  {
   "cell_type": "markdown",
   "metadata": {},
   "source": [
    "# PART 1: EVALUATION"
   ]
  },
  {
   "cell_type": "code",
   "execution_count": 4,
   "metadata": {},
   "outputs": [],
   "source": [
    "import cma\n",
    "from cma.fitness_transformations import EvalParallel2"
   ]
  },
  {
   "cell_type": "markdown",
   "metadata": {},
   "source": [
    "## TOY EXAMPLE: ROSENBROCK FUNCTION"
   ]
  },
  {
   "cell_type": "code",
   "execution_count": 11,
   "metadata": {},
   "outputs": [
    {
     "name": "stdout",
     "output_type": "stream",
     "text": [
      "(5_w,10)-aCMA-ES (mu_w=3.2,w_1=45%) in dimension 8 (seed=115408, Wed Nov 11 00:46:12 2020)\n",
      "Iterat #Fevals   function value  axis ratio  sigma  min&max std  t[m:s]\n",
      "    1     10 6.177204850195367e+01 1.0e+00 4.40e-01  4e-01  4e-01 0:00.0\n",
      "    2     20 6.811839119648486e+01 1.2e+00 3.92e-01  4e-01  4e-01 0:00.0\n",
      "    3     30 5.315961995428947e+01 1.2e+00 3.63e-01  3e-01  4e-01 0:00.0\n",
      "  100   1000 5.189769325645292e+00 6.0e+00 4.10e-02  1e-02  3e-02 0:01.0\n",
      "  200   2000 1.440883950301642e+00 1.5e+01 1.08e-01  1e-02  5e-02 0:01.4\n",
      "  300   3000 1.660207659136999e-02 2.9e+01 5.46e-02  2e-03  3e-02 0:02.0\n",
      "  400   4000 1.300917147241586e-09 6.5e+01 8.76e-05  8e-07  3e-05 0:02.5\n",
      "  465   4650 7.858324939043819e-15 6.6e+01 8.82e-07  4e-09  1e-07 0:02.7\n"
     ]
    },
    {
     "data": {
      "text/plain": [
       "<cma.evolution_strategy.CMAEvolutionStrategy at 0x7f99106d10a0>"
      ]
     },
     "execution_count": 11,
     "metadata": {},
     "output_type": "execute_result"
    }
   ],
   "source": [
    "es = cma.CMAEvolutionStrategy(8 * [0], 0.5)\n",
    "\n",
    "f = cma.ff.rosen\n",
    "es.optimize(f)"
   ]
  },
  {
   "cell_type": "code",
   "execution_count": 10,
   "metadata": {},
   "outputs": [
    {
     "name": "stdout",
     "output_type": "stream",
     "text": [
      "5.488439864559804e-15 4000\n"
     ]
    }
   ],
   "source": [
    "with EvalParallel2(f, number_of_processes=12) as eval:\n",
    "    while not es.stop():\n",
    "        X = es.ask()\n",
    "        es.tell(X, eval(X))\n",
    "print(es.result[1], es.result[2])"
   ]
  },
  {
   "cell_type": "markdown",
   "metadata": {},
   "source": [
    "## SLIGHTLY BIGGER TOY EXAMPLE: MNIST\n",
    "Builds an 1-layer neural network of "
   ]
  },
  {
   "cell_type": "code",
   "execution_count": null,
   "metadata": {},
   "outputs": [],
   "source": [
    "import numpy as np\n",
    "\n",
    "import torch\n",
    "import torchvision\n",
    "import torch.nn as nn\n",
    "import torch.nn.functional as F\n",
    "import torch.optim as optim"
   ]
  },
  {
   "cell_type": "code",
   "execution_count": null,
   "metadata": {},
   "outputs": [],
   "source": [
    "# \"GLOBALS\"\n",
    "\n",
    "DEVICE = torch.device('cuda' if torch.cuda.is_available() else 'cpu')\n",
    "\n",
    "TRAIN_LOADER = torch.utils.data.DataLoader(\n",
    "  torchvision.datasets.MNIST('/files/', train=True, download=True,\n",
    "                             transform=torchvision.transforms.Compose([\n",
    "                               torchvision.transforms.ToTensor(),\n",
    "                               torchvision.transforms.Normalize(\n",
    "                                 (0.1307,), (0.3081,))\n",
    "                             ])),\n",
    "  batch_size=2048, shuffle=True, num_workers = 8)\n",
    "\n",
    "TEST_LOADER = torch.utils.data.DataLoader(\n",
    "  torchvision.datasets.MNIST('/files/', train=False, download=True,\n",
    "                             transform=torchvision.transforms.Compose([\n",
    "                               torchvision.transforms.ToTensor(),\n",
    "                               torchvision.transforms.Normalize(\n",
    "                                 (0.1307,), (0.3081,))\n",
    "                             ])),\n",
    "  batch_size=2048, shuffle=True, num_workers = 8)"
   ]
  },
  {
   "cell_type": "code",
   "execution_count": null,
   "metadata": {},
   "outputs": [],
   "source": [
    "BOUNDS = [np.array([-8,  2,  2,  2,  2,  16]),\n",
    "          np.array([-5,  20, 20, 8, 8, 512])]\n",
    "\n",
    "def mnist_run(hyperparameters, verbose=False):\n",
    "    \"\"\"\n",
    "        Generate a training run for an MNIST classifier with given hyperperameter values\n",
    "        :param hyperparameters (3, int): 1D array of hyperparameter values\n",
    "        :return: evaluation metric\n",
    "    \"\"\"\n",
    "    hyperparameters = hyperparameters.astype(int)\n",
    "    LR = hyperparameters[0] #LEARNING RATE (EXPONENT)\n",
    "    EP = 3#hyperparameters[1] #EPOCHS\n",
    "    C1 = hyperparameters[1] #CHANNEL SIZE 1\n",
    "    C2 = hyperparameters[2] #CHANNEL SIZE 2\n",
    "    K1 = hyperparameters[3] #KERNEL SIZE 1\n",
    "    K2 = hyperparameters[4] #KERNEL SIZE 2\n",
    "    LW = hyperparameters[5] #LINEAR LAYER WIDTH\n",
    "\n",
    "    class MNIST_Net(nn.Module):\n",
    "        def __init__(self, C1, K1, C2, K2, LW):\n",
    "            super(MNIST_Net, self).__init__()\n",
    "            self.conv1 = nn.Conv2d(1, C1, kernel_size=K1)\n",
    "            self.w1 = 28-K1+1\n",
    "            self.conv2 = nn.Conv2d(C1, C2, kernel_size=K2)\n",
    "            self.w2 = (self.w1-K2-1)//2+1\n",
    "            self.conv2_drop = nn.Dropout2d(0.25)\n",
    "            \n",
    "            self.width2 = self.w2*self.w2*C2\n",
    "            self.fc1 = nn.Linear(self.width2, LW)\n",
    "            self.fc2 = nn.Linear(LW, 10)\n",
    "\n",
    "        def forward(self, x):\n",
    "            x = F.relu(self.conv1(x))\n",
    "            x = F.max_pool2d(F.relu(self.conv2(x)), 2)\n",
    "            x = self.conv2_drop(x)\n",
    "            x = x.view(-1, self.width2)\n",
    "            x = F.relu(self.fc1(x))\n",
    "            x = F.dropout(x, training=self.training)\n",
    "            x = self.fc2(x)\n",
    "            return F.log_softmax(x)\n",
    "\n",
    "    def train(network, optimizer, train_loader, epochs, verbose=False):\n",
    "        network.train()\n",
    "        for i in range(epochs):\n",
    "            for batch_idx, (data, target) in enumerate(train_loader):\n",
    "                data = data.to(DEVICE)\n",
    "                target = target.to(DEVICE)\n",
    "                optimizer.zero_grad()\n",
    "                output = network(data)\n",
    "                loss = F.nll_loss(output, target)\n",
    "                loss.backward()\n",
    "                optimizer.step()\n",
    "\n",
    "                if batch_idx % 400 == 0 and verbose:\n",
    "                    print('Train Epoch: {} [{}/{} ({:.0f}%)]\\tLoss: {:.6f}'.format(\n",
    "                        i, batch_idx * len(data), len(TRAIN_LOADER.dataset),\n",
    "                        100. * batch_idx / len(train_loader), loss.item()))\n",
    "\n",
    "                del data, target, output, loss\n",
    "            \n",
    "    def test(network, test_loader, verbose=False):\n",
    "        network.eval()\n",
    "        correct = 0\n",
    "        with torch.no_grad():\n",
    "            for data, target in test_loader:\n",
    "                data = data.to(DEVICE)\n",
    "                target = target.to(DEVICE)\n",
    "                output = network(data)\n",
    "                pred = output.data.max(1, keepdim=True)[1]\n",
    "                correct += pred.eq(target.data.view_as(pred)).sum()\n",
    "\n",
    "                del data, target, output\n",
    "        return correct\n",
    "    \n",
    "    network = MNIST_Net(C1, K1, C2, K2, LW)\n",
    "    network.to(DEVICE)\n",
    "    optimizer = optim.Adadelta(network.parameters(), lr=1.0**LR)\n",
    "\n",
    "    train(network, optimizer, TRAIN_LOADER, EP, verbose)\n",
    "    correct = test(network, TEST_LOADER, verbose)\n",
    "    return len(TEST_LOADER.dataset) - correct.item()"
   ]
  },
  {
   "cell_type": "code",
   "execution_count": null,
   "metadata": {},
   "outputs": [],
   "source": [
    "options = cma.CMAOptions()\n",
    "options.set('bounds', BOUNDS)\n",
    "\n",
    "es = cma.CMAEvolutionStrategy([-6, 10, 20, 5, 5, 50], 2)\n",
    "f = cma.s.ft.IntegerMixedFunction(mnist_run, [1, 2, 3, 4, 5])\n",
    "\n",
    "es.optimize(f)\n",
    "#with EvalParallel2(f, number_of_processes=1) as eval:\n",
    "#    while not es.stop():\n",
    "#        X = es.ask()\n",
    "#        es.tell(X, eval(X))\n",
    "#print(es.result[1], es.result[2])"
   ]
  },
  {
   "cell_type": "markdown",
   "metadata": {},
   "source": [
    "# PART 2: EVAL FUNCTION WRAPPER"
   ]
  },
  {
   "cell_type": "code",
   "execution_count": null,
   "metadata": {},
   "outputs": [],
   "source": [
    "def launch_run(hyperparameters):\n",
    "    \"\"\"\n",
    "        TODO: write training run code for ASR\n",
    "        TODO: integrate with ESPnet and feature extraction model training procedures\n",
    "\n",
    "        Generate a training run of ASR system with selected hyperparameters\n",
    "        :param hyperparameters: 1D array of hyperparameter values\n",
    "        :return: evaluation metric\n",
    "    \"\"\"  \n",
    "    raise NotImplementedError"
   ]
  }
 ],
 "metadata": {
  "kernelspec": {
   "display_name": "Python 3",
   "language": "python",
   "name": "python3"
  },
  "language_info": {
   "codemirror_mode": {
    "name": "ipython",
    "version": 3
   },
   "file_extension": ".py",
   "mimetype": "text/x-python",
   "name": "python",
   "nbconvert_exporter": "python",
   "pygments_lexer": "ipython3",
   "version": "3.8.3"
  }
 },
 "nbformat": 4,
 "nbformat_minor": 4
}
