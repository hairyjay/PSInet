{
 "cells": [
  {
   "cell_type": "markdown",
   "metadata": {},
   "source": [
    "# PART 0: INSTALL (for Colab)"
   ]
  },
  {
   "cell_type": "code",
   "execution_count": 2,
   "metadata": {},
   "outputs": [
    {
     "name": "stdout",
     "output_type": "stream",
     "text": [
      "Collecting cma\n",
      "  Downloading cma-3.0.3-py2.py3-none-any.whl (230 kB)\n",
      "\u001b[K     |████████████████████████████████| 230 kB 1.4 MB/s eta 0:00:01\n",
      "\u001b[?25hRequirement already satisfied: numpy in /Users/harry/opt/anaconda3/lib/python3.8/site-packages (from cma) (1.18.5)\n",
      "Installing collected packages: cma\n",
      "Successfully installed cma-3.0.3\n"
     ]
    }
   ],
   "source": [
    "!pip install cma"
   ]
  },
  {
   "cell_type": "markdown",
   "metadata": {},
   "source": [
    "# PART 1: EVALUATION"
   ]
  },
  {
   "cell_type": "code",
   "execution_count": 4,
   "metadata": {},
   "outputs": [],
   "source": [
    "import cma\n",
    "from cma.fitness_transformations import EvalParallel2"
   ]
  },
  {
   "cell_type": "markdown",
   "metadata": {},
   "source": [
    "## TOY EXAMPLE: ROSENBROCK FUNCTION"
   ]
  },
  {
   "cell_type": "code",
   "execution_count": 5,
   "metadata": {},
   "outputs": [
    {
     "name": "stdout",
     "output_type": "stream",
     "text": [
      "(5_w,10)-aCMA-ES (mu_w=3.2,w_1=45%) in dimension 8 (seed=130092, Tue Nov 10 20:57:39 2020)\n"
     ]
    }
   ],
   "source": [
    "# TOY EXAMPLE: ROSENBROCK FUNCTION\n",
    "es = cma.CMAEvolutionStrategy(8 * [0], 0.5)\n",
    "\n",
    "f = cma.ff.rosen\n",
    "#es.optimize(f)"
   ]
  },
  {
   "cell_type": "code",
   "execution_count": 10,
   "metadata": {},
   "outputs": [
    {
     "name": "stdout",
     "output_type": "stream",
     "text": [
      "5.488439864559804e-15 4000\n"
     ]
    }
   ],
   "source": [
    "with EvalParallel2(f, number_of_processes=12) as eval:\n",
    "    while not es.stop():\n",
    "        X = es.ask()\n",
    "        es.tell(X, eval(X))\n",
    "print(es.result[1], es.result[2])"
   ]
  },
  {
   "cell_type": "markdown",
   "metadata": {},
   "source": [
    "# PART 2: EVAL FUNCTION WRAPPER"
   ]
  },
  {
   "cell_type": "code",
   "execution_count": null,
   "metadata": {},
   "outputs": [],
   "source": [
    "def launch_run(hyperparameters):\n",
    "    \"\"\"\n",
    "        TODO: write training run code for ASR\n",
    "        TODO: integrate with ESPnet and feature extraction model training procedures\n",
    "\n",
    "        Generate a training run of ASR system with selected hyperparameters\n",
    "        :param hyperparameters: 1D array of hyperparameter values\n",
    "        :return: evaluation metric\n",
    "    \"\"\"  \n",
    "    raise NotImplementedError"
   ]
  }
 ],
 "metadata": {
  "kernelspec": {
   "display_name": "Python 3",
   "language": "python",
   "name": "python3"
  },
  "language_info": {
   "codemirror_mode": {
    "name": "ipython",
    "version": 3
   },
   "file_extension": ".py",
   "mimetype": "text/x-python",
   "name": "python",
   "nbconvert_exporter": "python",
   "pygments_lexer": "ipython3",
   "version": "3.8.3"
  }
 },
 "nbformat": 4,
 "nbformat_minor": 4
}
